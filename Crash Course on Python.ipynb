{
 "metadata": {
  "language_info": {
   "codemirror_mode": {
    "name": "ipython",
    "version": 3
   },
   "file_extension": ".py",
   "mimetype": "text/x-python",
   "name": "python",
   "nbconvert_exporter": "python",
   "pygments_lexer": "ipython3",
   "version": "3.9.2"
  },
  "orig_nbformat": 2,
  "kernelspec": {
   "name": "python392jvsc74a57bd04ce0e62306dd6a5716965d4519ada776f947e6dfc145b604b11307c10277ef29",
   "display_name": "Python 3.9.2 64-bit"
  },
  "metadata": {
   "interpreter": {
    "hash": "4ce0e62306dd6a5716965d4519ada776f947e6dfc145b604b11307c10277ef29"
   }
  }
 },
 "nbformat": 4,
 "nbformat_minor": 2,
 "cells": [
  {
   "source": [
    "# Here are all the installs and imports you will need for your word cloud script and uploader widget\n",
    "\n",
    "!pip install wordcloud\n",
    "!pip install fileupload\n",
    "!pip install ipywidgets\n",
    "!jupyter nbextension install --py --user fileupload\n",
    "!jupyter nbextension enable --py fileupload\n",
    "\n",
    "import wordcloud\n",
    "import numpy as np\n",
    "from matplotlib import pyplot as plt\n",
    "from IPython.display import display\n",
    "import fileupload\n",
    "import io\n",
    "import sys"
   ],
   "cell_type": "code",
   "metadata": {
    "tags": [
     "outputPrepend"
    ]
   },
   "execution_count": 18,
   "outputs": [
    {
     "output_type": "stream",
     "name": "stdout",
     "text": [
      "user = False\n",
      "home = None\n",
      "root = None\n",
      "prefix = None\n",
      "    ERROR: Command errored out with exit status 1:\n",
      "     command: 'd:\\python\\python.exe' -u -c 'import io, os, sys, setuptools, tokenize; sys.argv[0] = '\"'\"'C:\\\\Users\\\\SOHAIL\\\\AppData\\\\Local\\\\Temp\\\\pip-install-j6efh2no\\\\wordcloud_8ae95fb6baa84b2088712c69f6db7a28\\\\setup.py'\"'\"'; __file__='\"'\"'C:\\\\Users\\\\SOHAIL\\\\AppData\\\\Local\\\\Temp\\\\pip-install-j6efh2no\\\\wordcloud_8ae95fb6baa84b2088712c69f6db7a28\\\\setup.py'\"'\"';f = getattr(tokenize, '\"'\"'open'\"'\"', open)(__file__) if os.path.exists(__file__) else io.StringIO('\"'\"'from setuptools import setup; setup()'\"'\"');code = f.read().replace('\"'\"'\\r\\n'\"'\"', '\"'\"'\\n'\"'\"');f.close();exec(compile(code, __file__, '\"'\"'exec'\"'\"'))' install --record 'C:\\Users\\SOHAIL\\AppData\\Local\\Temp\\pip-record-9sc9r52l\\install-record.txt' --single-version-externally-managed --compile --install-headers 'd:\\python\\Include\\wordcloud'\n",
      "         cwd: C:\\Users\\SOHAIL\\AppData\\Local\\Temp\\pip-install-j6efh2no\\wordcloud_8ae95fb6baa84b2088712c69f6db7a28\\\n",
      "    Complete output (20 lines):\n",
      "    running install\n",
      "    running build\n",
      "    running build_py\n",
      "    creating build\n",
      "    creating build\\lib.win-amd64-3.9\n",
      "    creating build\\lib.win-amd64-3.9\\wordcloud\n",
      "    copying wordcloud\\color_from_image.py -> build\\lib.win-amd64-3.9\\wordcloud\n",
      "    copying wordcloud\\tokenization.py -> build\\lib.win-amd64-3.9\\wordcloud\n",
      "    copying wordcloud\\wordcloud.py -> build\\lib.win-amd64-3.9\\wordcloud\n",
      "    copying wordcloud\\wordcloud_cli.py -> build\\lib.win-amd64-3.9\\wordcloud\n",
      "    copying wordcloud\\_version.py -> build\\lib.win-amd64-3.9\\wordcloud\n",
      "    copying wordcloud\\__init__.py -> build\\lib.win-amd64-3.9\\wordcloud\n",
      "    copying wordcloud\\__main__.py -> build\\lib.win-amd64-3.9\\wordcloud\n",
      "    copying wordcloud\\stopwords -> build\\lib.win-amd64-3.9\\wordcloud\n",
      "    copying wordcloud\\DroidSansMono.ttf -> build\\lib.win-amd64-3.9\\wordcloud\n",
      "    UPDATING build\\lib.win-amd64-3.9\\wordcloud/_version.py\n",
      "    set build\\lib.win-amd64-3.9\\wordcloud/_version.py to '1.8.1'\n",
      "    running build_ext\n",
      "    building 'wordcloud.query_integral_image' extension\n",
      "    error: Microsoft Visual C++ 14.0 is required. Get it with \"Build Tools for Visual Studio\": https://visualstudio.microsoft.com/downloads/\n",
      "    ----------------------------------------\n",
      "ERROR: Command errored out with exit status 1: 'd:\\python\\python.exe' -u -c 'import io, os, sys, setuptools, tokenize; sys.argv[0] = '\"'\"'C:\\\\Users\\\\SOHAIL\\\\AppData\\\\Local\\\\Temp\\\\pip-install-j6efh2no\\\\wordcloud_8ae95fb6baa84b2088712c69f6db7a28\\\\setup.py'\"'\"'; __file__='\"'\"'C:\\\\Users\\\\SOHAIL\\\\AppData\\\\Local\\\\Temp\\\\pip-install-j6efh2no\\\\wordcloud_8ae95fb6baa84b2088712c69f6db7a28\\\\setup.py'\"'\"';f = getattr(tokenize, '\"'\"'open'\"'\"', open)(__file__) if os.path.exists(__file__) else io.StringIO('\"'\"'from setuptools import setup; setup()'\"'\"');code = f.read().replace('\"'\"'\\r\\n'\"'\"', '\"'\"'\\n'\"'\"');f.close();exec(compile(code, __file__, '\"'\"'exec'\"'\"'))' install --record 'C:\\Users\\SOHAIL\\AppData\\Local\\Temp\\pip-record-9sc9r52l\\install-record.txt' --single-version-externally-managed --compile --install-headers 'd:\\python\\Include\\wordcloud' Check the logs for full command output.\n",
      "Requirement already satisfied: fileupload in d:\\python\\lib\\site-packages (0.1.5)\n",
      "Requirement already satisfied: notebook>=4.2 in d:\\python\\lib\\site-packages (from fileupload) (6.3.0)\n",
      "Requirement already satisfied: ipywidgets>=5.1 in d:\\python\\lib\\site-packages (from fileupload) (7.6.3)\n",
      "Requirement already satisfied: traitlets>=4.2 in c:\\users\\sohail\\appdata\\roaming\\python\\python39\\site-packages (from fileupload) (5.0.5)\n",
      "Requirement already satisfied: ipykernel>=4.5.1 in c:\\users\\sohail\\appdata\\roaming\\python\\python39\\site-packages (from ipywidgets>=5.1->fileupload) (5.5.3)\n",
      "Requirement already satisfied: ipython>=4.0.0 in c:\\users\\sohail\\appdata\\roaming\\python\\python39\\site-packages (from ipywidgets>=5.1->fileupload) (7.22.0)\n",
      "Requirement already satisfied: widgetsnbextension~=3.5.0 in d:\\python\\lib\\site-packages (from ipywidgets>=5.1->fileupload) (3.5.1)\n",
      "Requirement already satisfied: jupyterlab-widgets>=1.0.0 in d:\\python\\lib\\site-packages (from ipywidgets>=5.1->fileupload) (1.0.0)\n",
      "Requirement already satisfied: nbformat>=4.2.0 in d:\\python\\lib\\site-packages (from ipywidgets>=5.1->fileupload) (5.1.3)\n",
      "Requirement already satisfied: tornado>=4.2 in c:\\users\\sohail\\appdata\\roaming\\python\\python39\\site-packages (from ipykernel>=4.5.1->ipywidgets>=5.1->fileupload) (6.1)\n",
      "Requirement already satisfied: jupyter-client in c:\\users\\sohail\\appdata\\roaming\\python\\python39\\site-packages (from ipykernel>=4.5.1->ipywidgets>=5.1->fileupload) (6.1.12)\n",
      "Requirement already satisfied: prompt-toolkit!=3.0.0,!=3.0.1,<3.1.0,>=2.0.0 in c:\\users\\sohail\\appdata\\roaming\\python\\python39\\site-packages (from ipython>=4.0.0->ipywidgets>=5.1->fileupload) (3.0.18)\n",
      "Requirement already satisfied: pickleshare in c:\\users\\sohail\\appdata\\roaming\\python\\python39\\site-packages (from ipython>=4.0.0->ipywidgets>=5.1->fileupload) (0.7.5)\n",
      "Requirement already satisfied: jedi>=0.16 in c:\\users\\sohail\\appdata\\roaming\\python\\python39\\site-packages (from ipython>=4.0.0->ipywidgets>=5.1->fileupload) (0.18.0)\n",
      "Requirement already satisfied: decorator in c:\\users\\sohail\\appdata\\roaming\\python\\python39\\site-packages (from ipython>=4.0.0->ipywidgets>=5.1->fileupload) (5.0.7)\n",
      "Requirement already satisfied: pygments in c:\\users\\sohail\\appdata\\roaming\\python\\python39\\site-packages (from ipython>=4.0.0->ipywidgets>=5.1->fileupload) (2.8.1)\n",
      "Requirement already satisfied: setuptools>=18.5 in d:\\python\\lib\\site-packages (from ipython>=4.0.0->ipywidgets>=5.1->fileupload) (49.2.1)\n",
      "Requirement already satisfied: colorama in c:\\users\\sohail\\appdata\\roaming\\python\\python39\\site-packages (from ipython>=4.0.0->ipywidgets>=5.1->fileupload) (0.4.4)\n",
      "Requirement already satisfied: backcall in c:\\users\\sohail\\appdata\\roaming\\python\\python39\\site-packages (from ipython>=4.0.0->ipywidgets>=5.1->fileupload) (0.2.0)\n",
      "Requirement already satisfied: parso<0.9.0,>=0.8.0 in c:\\users\\sohail\\appdata\\roaming\\python\\python39\\site-packages (from jedi>=0.16->ipython>=4.0.0->ipywidgets>=5.1->fileupload) (0.8.2)\n",
      "Requirement already satisfied: jsonschema!=2.5.0,>=2.4 in d:\\python\\lib\\site-packages (from nbformat>=4.2.0->ipywidgets>=5.1->fileupload) (3.2.0)\n",
      "Requirement already satisfied: jupyter-core in c:\\users\\sohail\\appdata\\roaming\\python\\python39\\site-packages (from nbformat>=4.2.0->ipywidgets>=5.1->fileupload) (4.7.1)\n",
      "Requirement already satisfied: ipython-genutils in c:\\users\\sohail\\appdata\\roaming\\python\\python39\\site-packages (from nbformat>=4.2.0->ipywidgets>=5.1->fileupload) (0.2.0)\n",
      "Requirement already satisfied: attrs>=17.4.0 in d:\\python\\lib\\site-packages (from jsonschema!=2.5.0,>=2.4->nbformat>=4.2.0->ipywidgets>=5.1->fileupload) (20.3.0)\n",
      "Requirement already satisfied: pyrsistent>=0.14.0 in d:\\python\\lib\\site-packages (from jsonschema!=2.5.0,>=2.4->nbformat>=4.2.0->ipywidgets>=5.1->fileupload) (0.17.3)\n",
      "Requirement already satisfied: six>=1.11.0 in c:\\users\\sohail\\appdata\\roaming\\python\\python39\\site-packages (from jsonschema!=2.5.0,>=2.4->nbformat>=4.2.0->ipywidgets>=5.1->fileupload) (1.15.0)\n",
      "Requirement already satisfied: jinja2 in d:\\python\\lib\\site-packages (from notebook>=4.2->fileupload) (2.11.3)\n",
      "Requirement already satisfied: nbconvert in d:\\python\\lib\\site-packages (from notebook>=4.2->fileupload) (6.0.7)\n",
      "Requirement already satisfied: pyzmq>=17 in c:\\users\\sohail\\appdata\\roaming\\python\\python39\\site-packages (from notebook>=4.2->fileupload) (22.0.3)\n",
      "Requirement already satisfied: terminado>=0.8.3 in d:\\python\\lib\\site-packages (from notebook>=4.2->fileupload) (0.9.4)\n",
      "Requirement already satisfied: argon2-cffi in d:\\python\\lib\\site-packages (from notebook>=4.2->fileupload) (20.1.0)\n",
      "Requirement already satisfied: prometheus-client in d:\\python\\lib\\site-packages (from notebook>=4.2->fileupload) (0.10.1)\n",
      "Requirement already satisfied: Send2Trash>=1.5.0 in d:\\python\\lib\\site-packages (from notebook>=4.2->fileupload) (1.5.0)\n",
      "Requirement already satisfied: python-dateutil>=2.1 in c:\\users\\sohail\\appdata\\roaming\\python\\python39\\site-packages (from jupyter-client->ipykernel>=4.5.1->ipywidgets>=5.1->fileupload) (2.8.1)\n",
      "Requirement already satisfied: pywin32>=1.0 in c:\\users\\sohail\\appdata\\roaming\\python\\python39\\site-packages (from jupyter-core->nbformat>=4.2.0->ipywidgets>=5.1->fileupload) (300)\n",
      "Requirement already satisfied: wcwidth in c:\\users\\sohail\\appdata\\roaming\\python\\python39\\site-packages (from prompt-toolkit!=3.0.0,!=3.0.1,<3.1.0,>=2.0.0->ipython>=4.0.0->ipywidgets>=5.1->fileupload) (0.2.5)\n",
      "Requirement already satisfied: pywinpty>=0.5 in d:\\python\\lib\\site-packages (from terminado>=0.8.3->notebook>=4.2->fileupload) (0.5.7)\n",
      "Requirement already satisfied: cffi>=1.0.0 in d:\\python\\lib\\site-packages (from argon2-cffi->notebook>=4.2->fileupload) (1.14.5)\n",
      "Requirement already satisfied: pycparser in d:\\python\\lib\\site-packages (from cffi>=1.0.0->argon2-cffi->notebook>=4.2->fileupload) (2.20)\n",
      "Requirement already satisfied: MarkupSafe>=0.23 in d:\\python\\lib\\site-packages (from jinja2->notebook>=4.2->fileupload) (1.1.1)\n",
      "Requirement already satisfied: entrypoints>=0.2.2 in d:\\python\\lib\\site-packages (from nbconvert->notebook>=4.2->fileupload) (0.3)\n",
      "Requirement already satisfied: mistune<2,>=0.8.1 in d:\\python\\lib\\site-packages (from nbconvert->notebook>=4.2->fileupload) (0.8.4)\n",
      "Requirement already satisfied: defusedxml in d:\\python\\lib\\site-packages (from nbconvert->notebook>=4.2->fileupload) (0.7.1)\n",
      "Requirement already satisfied: pandocfilters>=1.4.1 in d:\\python\\lib\\site-packages (from nbconvert->notebook>=4.2->fileupload) (1.4.3)\n",
      "Requirement already satisfied: bleach in d:\\python\\lib\\site-packages (from nbconvert->notebook>=4.2->fileupload) (3.3.0)\n",
      "Requirement already satisfied: nbclient<0.6.0,>=0.5.0 in d:\\python\\lib\\site-packages (from nbconvert->notebook>=4.2->fileupload) (0.5.3)\n",
      "Requirement already satisfied: jupyterlab-pygments in d:\\python\\lib\\site-packages (from nbconvert->notebook>=4.2->fileupload) (0.1.2)\n",
      "Requirement already satisfied: testpath in d:\\python\\lib\\site-packages (from nbconvert->notebook>=4.2->fileupload) (0.4.4)\n",
      "Requirement already satisfied: nest-asyncio in d:\\python\\lib\\site-packages (from nbclient<0.6.0,>=0.5.0->nbconvert->notebook>=4.2->fileupload) (1.5.1)\n",
      "Requirement already satisfied: async-generator in d:\\python\\lib\\site-packages (from nbclient<0.6.0,>=0.5.0->nbconvert->notebook>=4.2->fileupload) (1.10)\n",
      "Requirement already satisfied: webencodings in d:\\python\\lib\\site-packages (from bleach->nbconvert->notebook>=4.2->fileupload) (0.5.1)\n",
      "Requirement already satisfied: packaging in d:\\python\\lib\\site-packages (from bleach->nbconvert->notebook>=4.2->fileupload) (20.9)\n",
      "Requirement already satisfied: pyparsing>=2.0.2 in d:\\python\\lib\\site-packages (from packaging->bleach->nbconvert->notebook>=4.2->fileupload) (2.4.7)\n",
      "WARNING: Value for scheme.headers does not match. Please report this to <https://github.com/pypa/pip/issues/9617>\n",
      "distutils: d:\\python\\Include\\UNKNOWN\n",
      "sysconfig: d:\\python\\Include\n",
      "WARNING: Additional context:\n",
      "user = False\n",
      "home = None\n",
      "root = None\n",
      "prefix = None\n",
      "WARNING: Value for scheme.headers does not match. Please report this to <https://github.com/pypa/pip/issues/9617>\n",
      "distutils: d:\\python\\Include\\UNKNOWN\n",
      "sysconfig: d:\\python\\Include\n",
      "WARNING: Additional context:\n",
      "user = False\n",
      "home = None\n",
      "root = None\n",
      "prefix = None\n",
      "Requirement already satisfied: ipywidgets in d:\\python\\lib\\site-packages (7.6.3)\n",
      "Requirement already satisfied: traitlets>=4.3.1 in c:\\users\\sohail\\appdata\\roaming\\python\\python39\\site-packages (from ipywidgets) (5.0.5)\n",
      "Requirement already satisfied: widgetsnbextension~=3.5.0 in d:\\python\\lib\\site-packages (from ipywidgets) (3.5.1)\n",
      "Requirement already satisfied: ipykernel>=4.5.1 in c:\\users\\sohail\\appdata\\roaming\\python\\python39\\site-packages (from ipywidgets) (5.5.3)\n",
      "Requirement already satisfied: ipython>=4.0.0 in c:\\users\\sohail\\appdata\\roaming\\python\\python39\\site-packages (from ipywidgets) (7.22.0)\n",
      "Requirement already satisfied: nbformat>=4.2.0 in d:\\python\\lib\\site-packages (from ipywidgets) (5.1.3)\n",
      "Requirement already satisfied: jupyterlab-widgets>=1.0.0 in d:\\python\\lib\\site-packages (from ipywidgets) (1.0.0)\n",
      "Requirement already satisfied: tornado>=4.2 in c:\\users\\sohail\\appdata\\roaming\\python\\python39\\site-packages (from ipykernel>=4.5.1->ipywidgets) (6.1)\n",
      "Requirement already satisfied: jupyter-client in c:\\users\\sohail\\appdata\\roaming\\python\\python39\\site-packages (from ipykernel>=4.5.1->ipywidgets) (6.1.12)\n",
      "Requirement already satisfied: decorator in c:\\users\\sohail\\appdata\\roaming\\python\\python39\\site-packages (from ipython>=4.0.0->ipywidgets) (5.0.7)\n",
      "Requirement already satisfied: setuptools>=18.5 in d:\\python\\lib\\site-packages (from ipython>=4.0.0->ipywidgets) (49.2.1)\n",
      "Requirement already satisfied: pickleshare in c:\\users\\sohail\\appdata\\roaming\\python\\python39\\site-packages (from ipython>=4.0.0->ipywidgets) (0.7.5)\n",
      "Requirement already satisfied: prompt-toolkit!=3.0.0,!=3.0.1,<3.1.0,>=2.0.0 in c:\\users\\sohail\\appdata\\roaming\\python\\python39\\site-packages (from ipython>=4.0.0->ipywidgets) (3.0.18)\n",
      "Requirement already satisfied: jedi>=0.16 in c:\\users\\sohail\\appdata\\roaming\\python\\python39\\site-packages (from ipython>=4.0.0->ipywidgets) (0.18.0)\n",
      "Requirement already satisfied: pygments in c:\\users\\sohail\\appdata\\roaming\\python\\python39\\site-packages (from ipython>=4.0.0->ipywidgets) (2.8.1)\n",
      "Requirement already satisfied: backcall in c:\\users\\sohail\\appdata\\roaming\\python\\python39\\site-packages (from ipython>=4.0.0->ipywidgets) (0.2.0)\n",
      "Requirement already satisfied: colorama in c:\\users\\sohail\\appdata\\roaming\\python\\python39\\site-packages (from ipython>=4.0.0->ipywidgets) (0.4.4)\n",
      "Requirement already satisfied: parso<0.9.0,>=0.8.0 in c:\\users\\sohail\\appdata\\roaming\\python\\python39\\site-packages (from jedi>=0.16->ipython>=4.0.0->ipywidgets) (0.8.2)\n",
      "Requirement already satisfied: ipython-genutils in c:\\users\\sohail\\appdata\\roaming\\python\\python39\\site-packages (from nbformat>=4.2.0->ipywidgets) (0.2.0)\n",
      "Requirement already satisfied: jsonschema!=2.5.0,>=2.4 in d:\\python\\lib\\site-packages (from nbformat>=4.2.0->ipywidgets) (3.2.0)\n",
      "Requirement already satisfied: jupyter-core in c:\\users\\sohail\\appdata\\roaming\\python\\python39\\site-packages (from nbformat>=4.2.0->ipywidgets) (4.7.1)\n",
      "Requirement already satisfied: pyrsistent>=0.14.0 in d:\\python\\lib\\site-packages (from jsonschema!=2.5.0,>=2.4->nbformat>=4.2.0->ipywidgets) (0.17.3)\n",
      "Requirement already satisfied: six>=1.11.0 in c:\\users\\sohail\\appdata\\roaming\\python\\python39\\site-packages (from jsonschema!=2.5.0,>=2.4->nbformat>=4.2.0->ipywidgets) (1.15.0)\n",
      "Requirement already satisfied: attrs>=17.4.0 in d:\\python\\lib\\site-packages (from jsonschema!=2.5.0,>=2.4->nbformat>=4.2.0->ipywidgets) (20.3.0)\n",
      "Requirement already satisfied: wcwidth in c:\\users\\sohail\\appdata\\roaming\\python\\python39\\site-packages (from prompt-toolkit!=3.0.0,!=3.0.1,<3.1.0,>=2.0.0->ipython>=4.0.0->ipywidgets) (0.2.5)\n",
      "Requirement already satisfied: notebook>=4.4.1 in d:\\python\\lib\\site-packages (from widgetsnbextension~=3.5.0->ipywidgets) (6.3.0)\n",
      "Requirement already satisfied: argon2-cffi in d:\\python\\lib\\site-packages (from notebook>=4.4.1->widgetsnbextension~=3.5.0->ipywidgets) (20.1.0)\n",
      "Requirement already satisfied: prometheus-client in d:\\python\\lib\\site-packages (from notebook>=4.4.1->widgetsnbextension~=3.5.0->ipywidgets) (0.10.1)\n",
      "Requirement already satisfied: terminado>=0.8.3 in d:\\python\\lib\\site-packages (from notebook>=4.4.1->widgetsnbextension~=3.5.0->ipywidgets) (0.9.4)\n",
      "Requirement already satisfied: Send2Trash>=1.5.0 in d:\\python\\lib\\site-packages (from notebook>=4.4.1->widgetsnbextension~=3.5.0->ipywidgets) (1.5.0)\n",
      "Requirement already satisfied: nbconvert in d:\\python\\lib\\site-packages (from notebook>=4.4.1->widgetsnbextension~=3.5.0->ipywidgets) (6.0.7)\n",
      "Requirement already satisfied: jinja2 in d:\\python\\lib\\site-packages (from notebook>=4.4.1->widgetsnbextension~=3.5.0->ipywidgets) (2.11.3)\n",
      "Requirement already satisfied: pyzmq>=17 in c:\\users\\sohail\\appdata\\roaming\\python\\python39\\site-packages (from notebook>=4.4.1->widgetsnbextension~=3.5.0->ipywidgets) (22.0.3)\n",
      "Requirement already satisfied: python-dateutil>=2.1 in c:\\users\\sohail\\appdata\\roaming\\python\\python39\\site-packages (from jupyter-client->ipykernel>=4.5.1->ipywidgets) (2.8.1)\n",
      "Requirement already satisfied: pywin32>=1.0 in c:\\users\\sohail\\appdata\\roaming\\python\\python39\\site-packages (from jupyter-core->nbformat>=4.2.0->ipywidgets) (300)\n",
      "Requirement already satisfied: pywinpty>=0.5 in d:\\python\\lib\\site-packages (from terminado>=0.8.3->notebook>=4.4.1->widgetsnbextension~=3.5.0->ipywidgets) (0.5.7)\n",
      "Requirement already satisfied: cffi>=1.0.0 in d:\\python\\lib\\site-packages (from argon2-cffi->notebook>=4.4.1->widgetsnbextension~=3.5.0->ipywidgets) (1.14.5)\n",
      "Requirement already satisfied: pycparser in d:\\python\\lib\\site-packages (from cffi>=1.0.0->argon2-cffi->notebook>=4.4.1->widgetsnbextension~=3.5.0->ipywidgets) (2.20)\n",
      "Requirement already satisfied: MarkupSafe>=0.23 in d:\\python\\lib\\site-packages (from jinja2->notebook>=4.4.1->widgetsnbextension~=3.5.0->ipywidgets) (1.1.1)\n",
      "Requirement already satisfied: bleach in d:\\python\\lib\\site-packages (from nbconvert->notebook>=4.4.1->widgetsnbextension~=3.5.0->ipywidgets) (3.3.0)\n",
      "Requirement already satisfied: jupyterlab-pygments in d:\\python\\lib\\site-packages (from nbconvert->notebook>=4.4.1->widgetsnbextension~=3.5.0->ipywidgets) (0.1.2)\n",
      "Requirement already satisfied: pandocfilters>=1.4.1 in d:\\python\\lib\\site-packages (from nbconvert->notebook>=4.4.1->widgetsnbextension~=3.5.0->ipywidgets) (1.4.3)\n",
      "Requirement already satisfied: nbclient<0.6.0,>=0.5.0 in d:\\python\\lib\\site-packages (from nbconvert->notebook>=4.4.1->widgetsnbextension~=3.5.0->ipywidgets) (0.5.3)\n",
      "Requirement already satisfied: defusedxml in d:\\python\\lib\\site-packages (from nbconvert->notebook>=4.4.1->widgetsnbextension~=3.5.0->ipywidgets) (0.7.1)\n",
      "Requirement already satisfied: testpath in d:\\python\\lib\\site-packages (from nbconvert->notebook>=4.4.1->widgetsnbextension~=3.5.0->ipywidgets) (0.4.4)\n",
      "Requirement already satisfied: entrypoints>=0.2.2 in d:\\python\\lib\\site-packages (from nbconvert->notebook>=4.4.1->widgetsnbextension~=3.5.0->ipywidgets) (0.3)\n",
      "Requirement already satisfied: mistune<2,>=0.8.1 in d:\\python\\lib\\site-packages (from nbconvert->notebook>=4.4.1->widgetsnbextension~=3.5.0->ipywidgets) (0.8.4)\n",
      "Requirement already satisfied: async-generator in d:\\python\\lib\\site-packages (from nbclient<0.6.0,>=0.5.0->nbconvert->notebook>=4.4.1->widgetsnbextension~=3.5.0->ipywidgets) (1.10)\n",
      "Requirement already satisfied: nest-asyncio in d:\\python\\lib\\site-packages (from nbclient<0.6.0,>=0.5.0->nbconvert->notebook>=4.4.1->widgetsnbextension~=3.5.0->ipywidgets) (1.5.1)\n",
      "Requirement already satisfied: packaging in d:\\python\\lib\\site-packages (from bleach->nbconvert->notebook>=4.4.1->widgetsnbextension~=3.5.0->ipywidgets) (20.9)\n",
      "Requirement already satisfied: webencodings in d:\\python\\lib\\site-packages (from bleach->nbconvert->notebook>=4.4.1->widgetsnbextension~=3.5.0->ipywidgets) (0.5.1)\n",
      "Requirement already satisfied: pyparsing>=2.0.2 in d:\\python\\lib\\site-packages (from packaging->bleach->nbconvert->notebook>=4.4.1->widgetsnbextension~=3.5.0->ipywidgets) (2.4.7)\n",
      "WARNING: Value for scheme.headers does not match. Please report this to <https://github.com/pypa/pip/issues/9617>\n",
      "distutils: d:\\python\\Include\\UNKNOWN\n",
      "sysconfig: d:\\python\\Include\n",
      "WARNING: Additional context:\n",
      "user = False\n",
      "home = None\n",
      "root = None\n",
      "prefix = None\n",
      "WARNING: Value for scheme.headers does not match. Please report this to <https://github.com/pypa/pip/issues/9617>\n",
      "distutils: d:\\python\\Include\\UNKNOWN\n",
      "sysconfig: d:\\python\\Include\n",
      "WARNING: Additional context:\n",
      "user = False\n",
      "home = None\n",
      "root = None\n",
      "prefix = None\n",
      "'jupyter' is not recognized as an internal or external command,\n",
      "operable program or batch file.\n",
      "'jupyter' is not recognized as an internal or external command,\n",
      "operable program or batch file.\n"
     ]
    },
    {
     "output_type": "error",
     "ename": "ModuleNotFoundError",
     "evalue": "No module named 'wordcloud'",
     "traceback": [
      "\u001b[1;31m---------------------------------------------------------------------------\u001b[0m",
      "\u001b[1;31mModuleNotFoundError\u001b[0m                       Traceback (most recent call last)",
      "\u001b[1;32m<ipython-input-18-b307209b0d99>\u001b[0m in \u001b[0;36m<module>\u001b[1;34m\u001b[0m\n\u001b[0;32m      7\u001b[0m \u001b[0mget_ipython\u001b[0m\u001b[1;33m(\u001b[0m\u001b[1;33m)\u001b[0m\u001b[1;33m.\u001b[0m\u001b[0msystem\u001b[0m\u001b[1;33m(\u001b[0m\u001b[1;34m'jupyter nbextension enable --py fileupload'\u001b[0m\u001b[1;33m)\u001b[0m\u001b[1;33m\u001b[0m\u001b[1;33m\u001b[0m\u001b[0m\n\u001b[0;32m      8\u001b[0m \u001b[1;33m\u001b[0m\u001b[0m\n\u001b[1;32m----> 9\u001b[1;33m \u001b[1;32mimport\u001b[0m \u001b[0mwordcloud\u001b[0m\u001b[1;33m\u001b[0m\u001b[1;33m\u001b[0m\u001b[0m\n\u001b[0m\u001b[0;32m     10\u001b[0m \u001b[1;32mimport\u001b[0m \u001b[0mnumpy\u001b[0m \u001b[1;32mas\u001b[0m \u001b[0mnp\u001b[0m\u001b[1;33m\u001b[0m\u001b[1;33m\u001b[0m\u001b[0m\n\u001b[0;32m     11\u001b[0m \u001b[1;32mfrom\u001b[0m \u001b[0mmatplotlib\u001b[0m \u001b[1;32mimport\u001b[0m \u001b[0mpyplot\u001b[0m \u001b[1;32mas\u001b[0m \u001b[0mplt\u001b[0m\u001b[1;33m\u001b[0m\u001b[1;33m\u001b[0m\u001b[0m\n",
      "\u001b[1;31mModuleNotFoundError\u001b[0m: No module named 'wordcloud'"
     ]
    }
   ]
  },
  {
   "source": [
    "To upload your text file, run the following cell that contains all the code for a custom uploader widget. Once you run this cell, a \"Browse\" button should appear below it. Click this button and navigate the window to locate your saved text file"
   ],
   "cell_type": "markdown",
   "metadata": {}
  },
  {
   "cell_type": "code",
   "execution_count": 19,
   "metadata": {},
   "outputs": [
    {
     "output_type": "error",
     "ename": "NameError",
     "evalue": "name 'fileupload' is not defined",
     "traceback": [
      "\u001b[1;31m---------------------------------------------------------------------------\u001b[0m",
      "\u001b[1;31mNameError\u001b[0m                                 Traceback (most recent call last)",
      "\u001b[1;32m<ipython-input-19-fde83d400161>\u001b[0m in \u001b[0;36m<module>\u001b[1;34m\u001b[0m\n\u001b[0;32m     16\u001b[0m     \u001b[0mdisplay\u001b[0m\u001b[1;33m(\u001b[0m\u001b[0m_upload_widget\u001b[0m\u001b[1;33m)\u001b[0m\u001b[1;33m\u001b[0m\u001b[1;33m\u001b[0m\u001b[0m\n\u001b[0;32m     17\u001b[0m \u001b[1;33m\u001b[0m\u001b[0m\n\u001b[1;32m---> 18\u001b[1;33m \u001b[0m_upload\u001b[0m\u001b[1;33m(\u001b[0m\u001b[1;33m)\u001b[0m\u001b[1;33m\u001b[0m\u001b[1;33m\u001b[0m\u001b[0m\n\u001b[0m",
      "\u001b[1;32m<ipython-input-19-fde83d400161>\u001b[0m in \u001b[0;36m_upload\u001b[1;34m()\u001b[0m\n\u001b[0;32m      3\u001b[0m \u001b[1;32mdef\u001b[0m \u001b[0m_upload\u001b[0m\u001b[1;33m(\u001b[0m\u001b[1;33m)\u001b[0m\u001b[1;33m:\u001b[0m\u001b[1;33m\u001b[0m\u001b[1;33m\u001b[0m\u001b[0m\n\u001b[0;32m      4\u001b[0m \u001b[1;33m\u001b[0m\u001b[0m\n\u001b[1;32m----> 5\u001b[1;33m     \u001b[0m_upload_widget\u001b[0m \u001b[1;33m=\u001b[0m \u001b[0mfileupload\u001b[0m\u001b[1;33m.\u001b[0m\u001b[0mFileUploadWidget\u001b[0m\u001b[1;33m(\u001b[0m\u001b[1;33m)\u001b[0m\u001b[1;33m\u001b[0m\u001b[1;33m\u001b[0m\u001b[0m\n\u001b[0m\u001b[0;32m      6\u001b[0m \u001b[1;33m\u001b[0m\u001b[0m\n\u001b[0;32m      7\u001b[0m     \u001b[1;32mdef\u001b[0m \u001b[0m_cb\u001b[0m\u001b[1;33m(\u001b[0m\u001b[0mchange\u001b[0m\u001b[1;33m)\u001b[0m\u001b[1;33m:\u001b[0m\u001b[1;33m\u001b[0m\u001b[1;33m\u001b[0m\u001b[0m\n",
      "\u001b[1;31mNameError\u001b[0m: name 'fileupload' is not defined"
     ]
    }
   ],
   "source": [
    "\n",
    "# This is the uploader widget\n",
    "\n",
    "def _upload():\n",
    "\n",
    "    _upload_widget = fileupload.FileUploadWidget()\n",
    "\n",
    "    def _cb(change):\n",
    "        global file_contents\n",
    "        decoded = io.StringIO(change['owner'].data.decode('utf-8'))\n",
    "        filename = change['owner'].filename\n",
    "        print('Uploaded `{}` ({:.2f} kB)'.format(\n",
    "            filename, len(decoded.read()) / 2 **10))\n",
    "        file_contents = decoded.getvalue()\n",
    "\n",
    "    _upload_widget.observe(_cb, names='data')\n",
    "    display(_upload_widget)\n",
    "\n",
    "_upload()"
   ]
  },
  {
   "source": [
    "The uploader widget saved the contents of your uploaded file into a string object named file_contents that your word cloud script can process. This was a lot of preliminary work, but you are now ready to begin your script.\n",
    "Write a function in the cell below that iterates through the words in file_contents, removes punctuation, and counts the frequency of each word. Oh, and be sure to make it ignore word case, words that do not contain all alphabets and boring words like \"and\" or \"the\". Then use it in the generate_from_frequencies function to generate your very own word cloud!\n"
   ],
   "cell_type": "markdown",
   "metadata": {}
  },
  {
   "source": [
    "def calculate_frequencies(file_contents):\n",
    "    # Here is a list of punctuations and uninteresting words you can use to process your text\n",
    "    punctuations = '''!()-[]{};:'\"\\,<>./?@#$%^&*_~'''\n",
    "    uninteresting_words = [\"the\", \"a\", \"to\", \"if\", \"is\", \"it\", \"of\", \"and\", \"or\", \"an\", \"as\", \"i\", \"me\", \"my\", \\\n",
    "    \"we\", \"our\", \"ours\", \"you\", \"your\", \"yours\", \"he\", \"she\", \"him\", \"his\", \"her\", \"hers\", \"its\", \"they\", \"them\", \\\n",
    "    \"their\", \"what\", \"which\", \"who\", \"whom\", \"this\", \"that\", \"am\", \"are\", \"was\", \"were\", \"be\", \"been\", \"being\", \\\n",
    "    \"have\", \"has\", \"had\", \"do\", \"does\", \"did\", \"but\", \"at\", \"by\", \"with\", \"from\", \"here\", \"when\", \"where\", \"how\", \\\n",
    "    \"all\", \"any\", \"both\", \"each\", \"few\", \"more\", \"some\", \"such\", \"no\", \"nor\", \"too\", \"very\", \"can\", \"will\", \"just\"]\n",
    "    \n",
    "    # LEARNER CODE START HERE\n",
    "    non_punctuation_text=\"\"\n",
    "    for char in file_contents:\n",
    "        if char not in punctuations:\n",
    "            non_punctuation_text=non_punctuation_text+char\n",
    "    words=non_punctuation_text.split()\n",
    "    clean_words=[]\n",
    "    frequencies={}\n",
    "    for word in words:\n",
    "        if word.isalpha():\n",
    "            if word not in uninteresting_words:\n",
    "                clean_words.append(word)\n",
    "    for alpha_word in clean_words:\n",
    "        if alpha_word not in frequencies:\n",
    "            frequencies[alpha_word]=1\n",
    "        else:\n",
    "            frequencies[alpha_word]+=1\n",
    "    #wordcloud\n",
    "    cloud = wordcloud.WordCloud()\n",
    "    cloud.generate_from_frequencies(frequencies)\n",
    "    return cloud.to_array()\n"
   ],
   "cell_type": "markdown",
   "metadata": {}
  },
  {
   "cell_type": "code",
   "execution_count": 9,
   "metadata": {},
   "outputs": [
    {
     "output_type": "error",
     "ename": "NameError",
     "evalue": "name 'file_contents' is not defined",
     "traceback": [
      "\u001b[1;31m---------------------------------------------------------------------------\u001b[0m",
      "\u001b[1;31mNameError\u001b[0m                                 Traceback (most recent call last)",
      "\u001b[1;32m<ipython-input-9-fd0f708f372c>\u001b[0m in \u001b[0;36m<module>\u001b[1;34m\u001b[0m\n\u001b[0;32m      1\u001b[0m \u001b[1;31m# Display your wordcloud image\u001b[0m\u001b[1;33m\u001b[0m\u001b[1;33m\u001b[0m\u001b[1;33m\u001b[0m\u001b[0m\n\u001b[0;32m      2\u001b[0m \u001b[1;33m\u001b[0m\u001b[0m\n\u001b[1;32m----> 3\u001b[1;33m \u001b[0mmyimage\u001b[0m \u001b[1;33m=\u001b[0m \u001b[0mcalculate_frequencies\u001b[0m\u001b[1;33m(\u001b[0m\u001b[0mfile_contents\u001b[0m\u001b[1;33m)\u001b[0m\u001b[1;33m\u001b[0m\u001b[1;33m\u001b[0m\u001b[0m\n\u001b[0m\u001b[0;32m      4\u001b[0m \u001b[0mplt\u001b[0m\u001b[1;33m.\u001b[0m\u001b[0mimshow\u001b[0m\u001b[1;33m(\u001b[0m\u001b[0mmyimage\u001b[0m\u001b[1;33m,\u001b[0m \u001b[0minterpolation\u001b[0m \u001b[1;33m=\u001b[0m \u001b[1;34m'nearest'\u001b[0m\u001b[1;33m)\u001b[0m\u001b[1;33m\u001b[0m\u001b[1;33m\u001b[0m\u001b[0m\n\u001b[0;32m      5\u001b[0m \u001b[0mplt\u001b[0m\u001b[1;33m.\u001b[0m\u001b[0maxis\u001b[0m\u001b[1;33m(\u001b[0m\u001b[1;34m'off'\u001b[0m\u001b[1;33m)\u001b[0m\u001b[1;33m\u001b[0m\u001b[1;33m\u001b[0m\u001b[0m\n",
      "\u001b[1;31mNameError\u001b[0m: name 'file_contents' is not defined"
     ]
    }
   ],
   "source": [
    "# Display your wordcloud image\n",
    "\n",
    "myimage = calculate_frequencies(file_contents)\n",
    "plt.imshow(myimage, interpolation = 'nearest')\n",
    "plt.axis('off')\n",
    "plt.show()\n"
   ]
  },
  {
   "cell_type": "code",
   "execution_count": 8,
   "metadata": {},
   "outputs": [],
   "source": [
    "If you have done everything correctly, your word cloud image should appear after running the cell below. Fingers crossed!"
   ]
  },
  {
   "source": [
    "If your word cloud image did not appear, go back and rework your calculate_frequencies function until you get the desired output. Definitely check that you passed your frequecy count dictionary into the generate_from_frequencies function of wordcloud. Once you have correctly displayed your word cloud image, you are all done with this project. Nice work"
   ],
   "cell_type": "markdown",
   "metadata": {}
  }
 ]
}